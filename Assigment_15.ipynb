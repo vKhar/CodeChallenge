{
 "cells": [
  {
   "cell_type": "markdown",
   "id": "d8c0f1b9",
   "metadata": {},
   "source": [
    "# 🏥 Problem: Emergency Supplies in a Hospital Stairwell\n",
    "\n",
    "## Context\n",
    "\n",
    "You are a disaster response officer in a **multi-storey hospital**. Each floor is accessible only by a central **stairwell** — no elevators. The hospital has been hit by an earthquake, and critical supplies are scattered across different floors. \n",
    "\n",
    "Each floor may store one or more types of life-saving resources:\n",
    "\n",
    "- **Oxygen tanks (x)**\n",
    "- **Medicine kits (y)**\n",
    "- **Clean water (z)**\n",
    "\n",
    "![site](https://github.com/vKhar/CodeChallenge/blob/main/Disaster_site.jpg)\n",
    "\n",
    "---\n",
    "\n",
    "## Problem Statement\n",
    "\n",
    "- The building has `n` floors, numbered from **0 (top floor)** to **n−1 (ground floor)**.\n",
    "- At each floor, a tuple/or list like `(True, False, True)` represents the **presence of oxygen, medicine, and water** on that floor.\n",
    "- You can **start on any floor**, and move **up or down one floor at a time**.\n",
    "- Each floor change (up or down) **costs 1 unit of effort**.\n",
    "- From your starting floor, you must be able to **reach at least one oxygen source (x)**, **one medicine kit (y)**, and **one water supply (z)**.\n",
    "- Your **goal** is to choose a **starting floor** such that the **total cost (in floor movements)** to access all 3 resources is **minimized**.\n",
    "- You can only fetch one resource at a time.\n",
    "- If multiple starting floors result in the same cost, choose the one with the **lowest floor number**.\n",
    "- **Your task is to write Python code to find the best starting floor to be at based on the floor configuration**\n",
    "\n",
    "---\n",
    "\n",
    "## The resources on each floor can be represented as a list of tuples/or list\n",
    "\n",
    "```python\n",
    "floors = [\n",
    "    (bool, bool, bool),  # Floor 0\n",
    "    (bool, bool, bool),  # Floor 1\n",
    "    ...\n",
    "    (bool, bool, bool),  # Floor n-1\n",
    "]\n"
   ]
  },
  {
   "cell_type": "code",
   "execution_count": 20,
   "id": "4414119f",
   "metadata": {},
   "outputs": [],
   "source": [
    "# Example usage\n",
    "# ( x, y, z), x, y,x denotes the presence of oxygen tanks, medical kits and water respectively\n",
    "floors = [\n",
    "    (False, False, True),  # floor 0\n",
    "    (False, True, False),  # floor 1\n",
    "    (True, False, False),  # floor 2 \n",
    "    (False, False, False)  # floor 3\n",
    "] ## we assume that floor 0 is the highest and floor 3 is the lowest"
   ]
  },
  {
   "cell_type": "markdown",
   "id": "ce1e6aa7",
   "metadata": {},
   "source": [
    "For the example above, the best starting floor to be at is  floor 1\n",
    "-   floor 1 already have y, to get x, it needs to move down to floor 2 (+1), to get z, it needs to move up to floor 0 (+1). Total cost is 2\n",
    "- if you choose floor 0, cost to get x is move down to floor 2 (+2). To get y move down to floor 1 (+1). Total cost is 3\n",
    "- Similarly the cost for floor 2 is (+1) + (+2) is 3.\n",
    "- The cost for floor 3 is (+1) + (+2) + (+3) is 6.\n",
    "- Therefore the floor with the lowest cost is **floor 1**"
   ]
  },
  {
   "cell_type": "code",
   "execution_count": null,
   "id": "e0f57018",
   "metadata": {},
   "outputs": [],
   "source": [
    "### Starting code template\n",
    "def min_cost( floors):\n",
    "    pass\n"
   ]
  },
  {
   "cell_type": "code",
   "execution_count": null,
   "id": "6f7724dc",
   "metadata": {},
   "outputs": [],
   "source": [
    "## Test Case 1 : 4 floors\n",
    "\n",
    "min_cost(floors) ## floors is defined above should return 1\n",
    "\n",
    "## Test Case 2: 10 floors\n",
    "\n",
    "floors = [\n",
    " (False, False, False),\n",
    " (False, True, True),\n",
    " (False, False, False),\n",
    " (False, True, False),\n",
    " (False, False, False),\n",
    " (False, False, False),\n",
    " (False, False, True),\n",
    " (False, False, False),\n",
    " (True, False, False),\n",
    " (False, True, False)]\n",
    "\n",
    "min_cost(floors)"
   ]
  }
 ],
 "metadata": {
  "kernelspec": {
   "display_name": "python12",
   "language": "python",
   "name": "python3"
  },
  "language_info": {
   "codemirror_mode": {
    "name": "ipython",
    "version": 3
   },
   "file_extension": ".py",
   "mimetype": "text/x-python",
   "name": "python",
   "nbconvert_exporter": "python",
   "pygments_lexer": "ipython3",
   "version": "3.12.0"
  }
 },
 "nbformat": 4,
 "nbformat_minor": 5
}
